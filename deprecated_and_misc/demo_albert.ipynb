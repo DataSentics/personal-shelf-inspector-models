{
 "cells": [
  {
   "cell_type": "code",
   "execution_count": 1,
   "metadata": {},
   "outputs": [
    {
     "name": "stdout",
     "output_type": "stream",
     "text": [
      "Welcome!\n"
     ]
    }
   ],
   "source": [
    "import os\n",
    "import io\n",
    "from copy import deepcopy\n",
    "from pathlib import Path\n",
    "from PIL import Image as PILImage\n",
    "import cv2\n",
    "import numpy as np\n",
    "import re\n",
    "\n",
    "from IPython.display import display, Audio\n",
    "from ipywidgets import widgets, interact\n",
    "\n",
    "from utils.photo_utils import exif_rotate, get_photo, get_centermost_detections\n",
    "from cloud_ocr.google_api import save_cuts_for_detection, detect_text, draw_ocr\n",
    "import cloud_ocr.ocr_utils as ocr_fcns\n",
    "\n",
    "home_dir = os.getcwd()\n",
    "print(\"Welcome!\")"
   ]
  },
  {
   "cell_type": "code",
   "execution_count": 2,
   "metadata": {},
   "outputs": [],
   "source": [
    "# TODO: make it simple, this is workaround\n",
    "os.chdir(Path(home_dir, \"yolov5\"))\n",
    "from model import Model\n",
    "os.chdir(home_dir)"
   ]
  },
  {
   "cell_type": "code",
   "execution_count": 3,
   "metadata": {},
   "outputs": [
    {
     "name": "stdout",
     "output_type": "stream",
     "text": [
      "Models loaded\n"
     ]
    }
   ],
   "source": [
    "# pricetag model\n",
    "yolo_price_weight_path = str(Path(\"yolov5\", \"weights\", \"pricetag_small.pt\"))\n",
    "yolo_price_model = Model(yolo_price_weight_path, device=\"cpu\")  # ~ 0.2s on CPU \n",
    "\n",
    "# product name and price model\n",
    "yolo_price_weight_path = str(Path(\"yolov5\", \"weights\", \"product_name_and_price_small_albert_320.pt\"))\n",
    "yolo_product_name_model = Model(yolo_price_weight_path, device=\"cpu\")  # ~ 0.2s on CPU \n",
    "yolo_product_name_model.img_size = 320\n",
    "\n",
    "print(\"Models loaded\")"
   ]
  },
  {
   "cell_type": "code",
   "execution_count": 23,
   "metadata": {},
   "outputs": [],
   "source": [
    "def callback(value):\n",
    "    if btn_upload.data:\n",
    "\n",
    "        # =============================================================================\n",
    "        # INITIALIZE IMAGE\n",
    "        # =============================================================================\n",
    "\n",
    "        print(\"You upload a file:\")\n",
    "        im_file = get_photo(btn_upload)\n",
    "\n",
    "        # =============================================================================\n",
    "        # DETECT PRICETAGS\n",
    "        # =============================================================================\n",
    "        try: \n",
    "            det_pricetags = yolo_price_model.detect([np.array(im_file)],  mode=\"return\")\n",
    "\n",
    "            # =============================================================================\n",
    "            # CUT PRICETAGS\n",
    "            # =============================================================================        \n",
    "\n",
    "            # returns list of n centermost pricetags. To return only coordinates, use mode=\"return\" \n",
    "            print(f\"{len(det_pricetags['cls'])} pricetags found, working with centermost pricetag\")\n",
    "\n",
    "            # TODO: filter pricetag and read it\n",
    "            # returns list of n centermost pricetags. To return only coordinates, use mode=\"return\" \n",
    "            cuts = get_centermost_detections(im_file,\n",
    "                                                      det_pricetags,\n",
    "                                                      n=1,\n",
    "                                                      mode=\"cut\",\n",
    "                                                      bigger_box_by_pct=0.01\n",
    "                                                      )\n",
    "\n",
    "            display(PILImage.fromarray(cuts[0]))\n",
    "\n",
    "            # =============================================================================\n",
    "            # READ PRICETAGS\n",
    "            # =============================================================================   \n",
    "\n",
    "            # saving cuts to be able to run Google API detection (custom load)\n",
    "            cuts_path = save_cuts_for_detection(cuts)\n",
    "\n",
    "            # run Google API text detection and OCR\n",
    "            cuts_ocr = [detect_text(path) for path in cuts_path]\n",
    "\n",
    "            # =============================================================================\n",
    "            # CLASSIFY DETECTIONS\n",
    "            # =============================================================================\n",
    "\n",
    "            product_name = cuts_ocr[0][1]\n",
    "            x = cuts_ocr[1][1]\n",
    "\n",
    "            # heuristic 1\n",
    "            if len(x) == 4:\n",
    "                # heuristic 2\n",
    "                if re.match(heur_2_string, x[1]) and not re.match(heur_2_string, x[2]):\n",
    "                    swap = x[1]\n",
    "                    x[1] = x[2]\n",
    "                    x[2] = swap\n",
    "\n",
    "            # heuristic 2\n",
    "            x[-1] = re.sub(r\"K.$\",\"Kč\",x[-1])\n",
    "            if re.match(r\"Kč\",x[-1]):\n",
    "                del x[-1]\n",
    "\n",
    "            # heuristic 3\n",
    "            if len(x) < 4:\n",
    "                # split off haller\n",
    "                if re.match(heur_3_string, x[-1]):\n",
    "                    x.append(x[-1][-2:])\n",
    "                    x[-2] = x[-2][:-2]\n",
    "\n",
    "            #heuristic 5\n",
    "            for i in range(1,len(x)):\n",
    "                x[i] = re.sub(r\"\\D\",\"\",x[i])\n",
    "\n",
    "            price = x \n",
    "            # print results \n",
    "            print(product_name[0])  \n",
    "            print(\",\".join(price[1:]))\n",
    "        except:\n",
    "            print(\"Nedokážu přečíst obrázek, zkuste to prosím znovu.\")\n",
    "\n",
    "    return"
   ]
  },
  {
   "cell_type": "code",
   "execution_count": 24,
   "metadata": {},
   "outputs": [],
   "source": [
    "btn_upload = widgets.FileUpload()"
   ]
  },
  {
   "cell_type": "code",
   "execution_count": 25,
   "metadata": {},
   "outputs": [
    {
     "data": {
      "application/vnd.jupyter.widget-view+json": {
       "model_id": "9f2c88cd82aa4d22a568f4048750a686",
       "version_major": 2,
       "version_minor": 0
      },
      "text/plain": [
       "interactive(children=(FileUpload(value={}, description='Upload'), Output()), _dom_classes=('widget-interact',)…"
      ]
     },
     "metadata": {},
     "output_type": "display_data"
    }
   ],
   "source": [
    "_ = interact(callback, value=btn_upload)"
   ]
  },
  {
   "cell_type": "code",
   "execution_count": null,
   "metadata": {},
   "outputs": [],
   "source": []
  }
 ],
 "metadata": {
  "kernel_info": {
   "name": "pricetag_reader"
  },
  "kernelspec": {
   "display_name": "yolo_shelf",
   "language": "python",
   "name": "yolo_shelf"
  },
  "language_info": {
   "codemirror_mode": {
    "name": "ipython",
    "version": 3
   },
   "file_extension": ".py",
   "mimetype": "text/x-python",
   "name": "python",
   "nbconvert_exporter": "python",
   "pygments_lexer": "ipython3",
   "version": "3.6.9"
  },
  "nteract": {
   "version": "nteract-front-end@1.0.0"
  }
 },
 "nbformat": 4,
 "nbformat_minor": 4
}
