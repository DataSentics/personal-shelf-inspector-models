{
 "cells": [
  {
   "cell_type": "code",
   "execution_count": 1,
   "metadata": {
    "gather": {
     "logged": 1615632583409
    }
   },
   "outputs": [
    {
     "name": "stdout",
     "output_type": "stream",
     "text": [
      "Welcome!\n"
     ]
    }
   ],
   "source": [
    "import os\n",
    "import io\n",
    "from copy import deepcopy\n",
    "from pathlib import Path\n",
    "from PIL import Image as PILImage\n",
    "import cv2\n",
    "import numpy as np\n",
    "\n",
    "from IPython.display import display, Audio\n",
    "from ipywidgets import widgets, interact\n",
    "\n",
    "from utils.photo_utils import exif_rotate, get_photo, get_centermost_detections\n",
    "from cloud_ocr.google_api import save_cuts_for_detection, detect_text, draw_ocr\n",
    "import cloud_ocr.ocr_utils as ocr_fcns\n",
    "\n",
    "home_dir = os.getcwd()\n",
    "print(\"Welcome!\")"
   ]
  },
  {
   "cell_type": "code",
   "execution_count": 2,
   "metadata": {
    "gather": {
     "logged": 1615632585040
    }
   },
   "outputs": [],
   "source": [
    "# TODO: make it simple, this is workaround\n",
    "os.chdir(Path(home_dir, \"yolov5\"))\n",
    "from model import Model\n",
    "os.chdir(home_dir)"
   ]
  },
  {
   "cell_type": "code",
   "execution_count": 3,
   "metadata": {
    "gather": {
     "logged": 1615632586516
    }
   },
   "outputs": [
    {
     "name": "stdout",
     "output_type": "stream",
     "text": [
      "Models loaded\n"
     ]
    }
   ],
   "source": [
    "# pricetag model\n",
    "yolo_pricetag_weight_path = str(Path(\"yolov5\", \"weights\", \"pricetag_small.pt\"))\n",
    "yolo_pricetag_model = Model(yolo_pricetag_weight_path, device=\"cpu\")  # ~ 0.2s on CPU \n",
    "\n",
    "# product name and price model\n",
    "yolo_name_price_weight_path = str(Path(\"yolov5\", \"weights\", \"kaufland_name_price_small_320.pt\"))\n",
    "yolo_name_price_model = Model(yolo_name_price_weight_path, device=\"cpu\")  # ~ 0.2s on CPU \n",
    "yolo_name_price_model.img_size = 320\n",
    "\n",
    "print(\"Models loaded\")"
   ]
  },
  {
   "cell_type": "code",
   "execution_count": 4,
   "metadata": {
    "gather": {
     "logged": 1615632900018
    },
    "nteract": {
     "transient": {
      "deleting": false
     }
    }
   },
   "outputs": [],
   "source": [
    "nums = [\"1\", \"2\", \"3\", \"4\", \"5\", \"6\", \"7\", \"8\", \"9\", \"0\"]\n",
    "pers = [\".\", \",\", \":\"]"
   ]
  },
  {
   "cell_type": "code",
   "execution_count": 11,
   "metadata": {},
   "outputs": [],
   "source": [
    "def callback(value):\n",
    "    if btn_upload.data:\n",
    "\n",
    "        # =============================================================================\n",
    "        # INITIALIZE IMAGE\n",
    "        # =============================================================================\n",
    "\n",
    "        print(\"You upload a file:\")\n",
    "        im_file = get_photo(btn_upload, False)\n",
    "        \n",
    "        # =============================================================================\n",
    "        # DETECT PRICES\n",
    "        # =============================================================================\n",
    "        try:\n",
    "            det_pricetags = yolo_pricetag_model.detect([np.array(im_file)],\n",
    "                                                       min_confidence=0.75,\n",
    "                                                       mode=\"return\")\n",
    "            \n",
    "            # =============================================================================\n",
    "            # CUT PRICES\n",
    "            # =============================================================================        \n",
    "\n",
    "            # returns list of n centermost pricetags. To return only coordinates, use mode=\"return\"\n",
    "            print(f\" Nalezeno {len(det_pricetags['cls'])} cenovek, čtu cenovku nejblíže středu snímku.\")\n",
    "\n",
    "            # returns list of n centermost pricetags. To return only coordinates, use mode=\"return\" \n",
    "            cuts = get_centermost_detections(im_file,\n",
    "                                             det_pricetags,\n",
    "                                             n=1,\n",
    "                                             mode=\"cut\",\n",
    "                                             bigger_box_by_pct=0.01\n",
    "                                             )\n",
    "\n",
    "            display(PILImage.fromarray(cuts[0]))\n",
    "            \n",
    "            # TODO: filter pricetag and read it\n",
    "            \n",
    "            # =============================================================================\n",
    "            # READ PRICETAGS\n",
    "            # =============================================================================   \n",
    "            \n",
    "            # saving cuts to be able to run Google API detection (custom load)\n",
    "            cuts_path = save_cuts_for_detection(cuts)\n",
    "\n",
    "            # run Google API text detection and OCR\n",
    "            cuts_ocr = [detect_text(path) for path in cuts_path]\n",
    "\n",
    "            # =============================================================================\n",
    "            # CLASSIFY DETECTIONS\n",
    "            # =============================================================================   \n",
    "            \n",
    "            # detect price and product name with yolo model, only the first pricetag\n",
    "            det_name_price = yolo_name_price_model.detect([cuts[0]],\n",
    "                                                          min_confidence=0.1,\n",
    "                                                          mode=\"return\")\n",
    "\n",
    "            # find price by intersectiong google results with yolo detections\n",
    "            price = ocr_fcns.get_overlaps_yolo_google(\n",
    "                google_detections=cuts_ocr[0],\n",
    "                yolo_detections=det_name_price,\n",
    "                yolo_classes=yolo_name_price_model.names,\n",
    "                what_to_find=\"price\",\n",
    "                what_to_ignore=\"product_name\",\n",
    "                n_to_return=2\n",
    "            )\n",
    "            \n",
    "            price = \" \". join(price[0])\n",
    "\n",
    "            # find product_name similarly\n",
    "            product_name = ocr_fcns.get_overlaps_yolo_google(\n",
    "                google_detections=cuts_ocr[0],\n",
    "                yolo_detections=det_name_price,\n",
    "                yolo_classes=yolo_name_price_model.names,\n",
    "                what_to_find=\"product_name\",\n",
    "                what_to_ignore=\"price\",\n",
    "                n_to_return=2\n",
    "            )\n",
    "\n",
    "            # filter price value\n",
    "            cena = \"\"\n",
    "            # starting to add nums and pers until there is another letter -> break the for cycle\n",
    "            for val in price:\n",
    "                # we want to start with a num\n",
    "                if val in nums:\n",
    "                    cena += val\n",
    "                # if there is a \".\" for example add there are already some num added, add it as well\n",
    "                elif val in pers and len(cena) > 0:\n",
    "                    cena += val\n",
    "                # if nothing was added yet, continue\n",
    "                elif not cena:\n",
    "                    continue\n",
    "                # else break the cycle\n",
    "                else:\n",
    "                    break\n",
    "\n",
    "            # print results \n",
    "            print(\" \".join(product_name[0]))      \n",
    "            print(cena)\n",
    "        except Exception as e:\n",
    "            print(e)\n",
    "            print(\"Nedokážu přečíst obrázek, zkuste to prosím znovu.\")\n",
    "        \n",
    "    return"
   ]
  },
  {
   "cell_type": "code",
   "execution_count": 9,
   "metadata": {},
   "outputs": [],
   "source": [
    "btn_upload = widgets.FileUpload()"
   ]
  },
  {
   "cell_type": "code",
   "execution_count": 10,
   "metadata": {},
   "outputs": [
    {
     "data": {
      "application/vnd.jupyter.widget-view+json": {
       "model_id": "4f917e1ed4e7412f89852c9bc54805f9",
       "version_major": 2,
       "version_minor": 0
      },
      "text/plain": [
       "interactive(children=(FileUpload(value={}, description='Upload'), Output()), _dom_classes=('widget-interact',)…"
      ]
     },
     "metadata": {},
     "output_type": "display_data"
    }
   ],
   "source": [
    "_ = interact(callback, value=btn_upload)"
   ]
  },
  {
   "cell_type": "code",
   "execution_count": null,
   "metadata": {},
   "outputs": [],
   "source": []
  }
 ],
 "metadata": {
  "kernel_info": {
   "name": "personal"
  },
  "kernelspec": {
   "display_name": "yolo_shelf",
   "language": "python",
   "name": "yolo_shelf"
  },
  "language_info": {
   "codemirror_mode": {
    "name": "ipython",
    "version": 3
   },
   "file_extension": ".py",
   "mimetype": "text/x-python",
   "name": "python",
   "nbconvert_exporter": "python",
   "pygments_lexer": "ipython3",
   "version": "3.6.9"
  },
  "nteract": {
   "version": "nteract-front-end@1.0.0"
  }
 },
 "nbformat": 4,
 "nbformat_minor": 4
}
