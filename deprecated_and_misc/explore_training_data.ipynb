{
 "cells": [
  {
   "cell_type": "code",
   "execution_count": 2,
   "metadata": {},
   "outputs": [],
   "source": [
    "import numpy as np \n",
    "import json\n",
    "from PIL import Image\n",
    "import PIL.ImageDraw as ImageDraw\n",
    "import os"
   ]
  },
  {
   "cell_type": "code",
   "execution_count": 41,
   "metadata": {},
   "outputs": [],
   "source": [
    "def draw_one_annotation(json_name:str = \"annotation_shelves_albert_redbull_1.json\", folder_path:str = 'detection_shelves/data/raw'):\n",
    "    \"\"\" Draws image and bbox of the first annotation from json\"\"\"   \n",
    "    # get first annotation from json\n",
    "    with open(os.path.join(folder_path, json_name), \"r\") as f: \n",
    "        annots = json.load(f)\n",
    "    annotation = annots[list(annots.keys())[0]]\n",
    "    \n",
    "    # draw the image\n",
    "    image = Image.open(os.path.join(folder_path, annotation[\"filename\"]))\n",
    "    print(image.format)\n",
    "    print(image.size)\n",
    "    print(image.mode)\n",
    "    draw = ImageDraw.Draw(image)\n",
    "\n",
    "    # draw the bbox\n",
    "    for region in annotation[\"regions\"]:\n",
    "        points = [(x, y) for x, y in zip(region[\"shape_attributes\"][\"all_points_x\"], region[\"shape_attributes\"][\"all_points_y\"])]\n",
    "        draw.polygon((points), fill=200)\n",
    "    image.show()"
   ]
  },
  {
   "cell_type": "code",
   "execution_count": 38,
   "metadata": {},
   "outputs": [],
   "source": [
    "def delete_images(json_name, folder_path): \n",
    "    \"\"\"Deletes images from folder which are contained in json\"\"\"\n",
    "    with open(os.path.join(folder_path, json_name), \"r\") as f: \n",
    "        annots = json.load(f)\n",
    "    filenames = [image_data[\"filename\"] for _, image_data in annots.items()]\n",
    "    [os.remove(os.path.join(folder_path, filename)) for filename in filenames]"
   ]
  },
  {
   "cell_type": "code",
   "execution_count": 43,
   "metadata": {},
   "outputs": [
    {
     "name": "stdout",
     "output_type": "stream",
     "text": [
      "JPEG\n",
      "(3264, 2448)\n",
      "RGB\n"
     ]
    }
   ],
   "source": [
    "draw_one_annotation(\"annotation_shelves_albert_redbull_2.json\", folder_path='detection_shelves/data/raw')\n"
   ]
  },
  {
   "cell_type": "code",
   "execution_count": 48,
   "metadata": {},
   "outputs": [],
   "source": [
    "def count_annotations(json_name: str =\"annotation_shelves_albert_redbull_1.json\",folder_path='detection_shelves/data/raw'): \n",
    "    json_filenames = [f for f in os.listdir(folder_path) if f.endswith(\".json\")]\n",
    "    counts = dict() \n",
    "    for json_name in json_filenames: \n",
    "        with open(os.path.join(folder_path, json_name), \"r\") as f: \n",
    "            annots = json.load(f)\n",
    "        counts[json_name] = len(annots)\n",
    "    return counts"
   ]
  },
  {
   "cell_type": "code",
   "execution_count": 49,
   "metadata": {},
   "outputs": [
    {
     "data": {
      "text/plain": "{'annotation_shelves_albert_redbull_2.json': 18,\n 'annotation_shelves_albert_redbull_1.json': 20,\n 'annotation_shelves_billa_slovensko.json': 173}"
     },
     "execution_count": 49,
     "metadata": {},
     "output_type": "execute_result"
    }
   ],
   "source": [
    "\n",
    "count_annotations(json_name=\"annotation_shelves_albert_redbull_.json\")"
   ]
  },
  {
   "cell_type": "code",
   "execution_count": 4,
   "metadata": {},
   "outputs": [],
   "source": [
    " with open(os.path.join(\"detection_shelves/data/raw\", \"annotation_shelves_albert_redbull_1.json\"), \"r\") as f: \n",
    "        annots = json.load(f)"
   ]
  },
  {
   "cell_type": "code",
   "execution_count": 6,
   "metadata": {},
   "outputs": [
    {
     "data": {
      "text/plain": "{'filename': 'Claudie_Calvitti-15640551431071895651905-2019-07-25-114603.jpg',\n 'size': 3990403,\n 'regions': [{'shape_attributes': {'name': 'polygon',\n    'all_points_x': [712, 2742, 2745, 733],\n    'all_points_y': [348, 296, 369, 421]},\n   'region_attributes': {'Object': 'edge'}},\n  {'shape_attributes': {'name': 'polygon',\n    'all_points_x': [2819, 2822, 3261, 3259],\n    'all_points_y': [300, 371, 362, 291]},\n   'region_attributes': {'Object': 'edge'}},\n  {'shape_attributes': {'name': 'polygon',\n    'all_points_x': [754, 756, 2747, 2742],\n    'all_points_y': [925, 982, 962, 889]},\n   'region_attributes': {'Object': 'edge'}},\n  {'shape_attributes': {'name': 'polygon',\n    'all_points_x': [2809, 2804, 3246, 3261, 3254],\n    'all_points_y': [951, 1021, 1019, 1019, 943]},\n   'region_attributes': {'Object': 'edge'}},\n  {'shape_attributes': {'name': 'polygon',\n    'all_points_x': [785, 795, 2726, 2726],\n    'all_points_y': [1468, 1531, 1528, 1453]},\n   'region_attributes': {'Object': 'edge'}},\n  {'shape_attributes': {'name': 'polygon',\n    'all_points_x': [2783, 2781, 3259, 3261],\n    'all_points_y': [1575, 1653, 1650, 1577]},\n   'region_attributes': {'Object': 'edge'}},\n  {'shape_attributes': {'name': 'polygon',\n    'all_points_x': [803, 806, 2679, 2697, 2700],\n    'all_points_y': [2102, 2180, 2240, 2201, 2105]},\n   'region_attributes': {'Object': 'edge'}},\n  {'shape_attributes': {'name': 'polygon',\n    'all_points_x': [2768, 2762, 3261, 3254],\n    'all_points_y': [2170, 2313, 2318, 2178]},\n   'region_attributes': {'Object': 'edge'}},\n  {'shape_attributes': {'name': 'polygon',\n    'all_points_x': [660, 712, 821, 761],\n    'all_points_y': [351, 348, 2432, 2435]},\n   'region_attributes': {'Object': 'edge'}},\n  {'shape_attributes': {'name': 'polygon',\n    'all_points_x': [2762, 2697, 2757, 2817],\n    'all_points_y': [309, 2438, 2445, 307]},\n   'region_attributes': {'Object': 'edge'}}],\n 'file_attributes': {}}"
     },
     "execution_count": 6,
     "metadata": {},
     "output_type": "execute_result"
    }
   ],
   "source": [
    "annotation = annots[list(annots.keys())[0]]\n",
    "annotation"
   ]
  },
  {
   "cell_type": "code",
   "execution_count": null,
   "metadata": {},
   "outputs": [],
   "source": []
  }
 ],
 "metadata": {
  "kernelspec": {
   "display_name": "Python 3.8.0 64-bit ('personal-shelf-yolov5': conda)",
   "name": "python380jvsc74a57bd01838f3996282c5c69231651ea9f3277f7e9e8c4cd5f1278d947aec843d576c5b"
  },
  "language_info": {
   "codemirror_mode": {
    "name": "ipython",
    "version": 3
   },
   "file_extension": ".py",
   "mimetype": "text/x-python",
   "name": "python",
   "nbconvert_exporter": "python",
   "pygments_lexer": "ipython3",
   "version": "3.8.0"
  },
  "metadata": {
   "interpreter": {
    "hash": "1838f3996282c5c69231651ea9f3277f7e9e8c4cd5f1278d947aec843d576c5b"
   }
  },
  "orig_nbformat": 2
 },
 "nbformat": 4,
 "nbformat_minor": 2
}